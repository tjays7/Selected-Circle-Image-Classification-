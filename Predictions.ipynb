{
 "cells": [
  {
   "cell_type": "code",
   "execution_count": 21,
   "metadata": {},
   "outputs": [],
   "source": [
    "from tensorflow.keras.models import load_model\n",
    "import cv2\n",
    "import numpy as np\n",
    "import os, random"
   ]
  },
  {
   "cell_type": "code",
   "execution_count": 2,
   "metadata": {},
   "outputs": [
    {
     "name": "stdout",
     "output_type": "stream",
     "text": [
      "WARNING:tensorflow:From c:\\users\\tajwar\\appdata\\local\\continuum\\anaconda3\\envs\\tf_gpu\\lib\\site-packages\\tensorflow\\python\\ops\\resource_variable_ops.py:435: colocate_with (from tensorflow.python.framework.ops) is deprecated and will be removed in a future version.\n",
      "Instructions for updating:\n",
      "Colocations handled automatically by placer.\n"
     ]
    }
   ],
   "source": [
    "# returns a compiled model\n",
    "# identical to the previous one\n",
    "model = load_model('saved_model.h5')\n",
    " "
   ]
  },
  {
   "cell_type": "code",
   "execution_count": 3,
   "metadata": {},
   "outputs": [],
   "source": [
    "labels = ['a','b','c','d','e']\n",
    "IMG_SIZE_y = 22\n",
    "IMG_SIZE_x = 90"
   ]
  },
  {
   "cell_type": "code",
   "execution_count": null,
   "metadata": {},
   "outputs": [],
   "source": [
    "path = os.path.abspath('more images')\n",
    "X_test = []\n",
    "y_test = []\n",
    "for i in range(0,10):\n",
    "    files = os.listdir(path)\n",
    "    img_index = random.randrange(0, len(files))\n",
    "    X_test.append(cv2.imread(os.path.join(path,files[img_index]),0))\n",
    "    y_test.append(os.path.splitext(files[img_index])[0][-1])\n",
    "print(\"Original LABELS:\",y_test)\n",
    "#print(\"Images:\", test_images)\n",
    "\n",
    "X_test = np.array(X_test).reshape(-1,IMG_SIZE_x, IMG_SIZE_y,1)\n",
    "X_test = X_test/255.0\n",
    "y_test = np.array(y_test)\n",
    "#prediction = model.predict(X_test)\n",
    "\n",
    "#print(\"Predicted Labels:\")\n",
    "\n",
    "#for i in prediction:\n",
    "#    print(labels[np.argmax(i)])\n",
    "\n",
    "\n",
    "# evaluate the model\n",
    "scores = model.evaluate(X_test, y_test)\n",
    "print(scores)"
   ]
  },
  {
   "cell_type": "code",
   "execution_count": 44,
   "metadata": {},
   "outputs": [
    {
     "data": {
      "text/plain": [
       "list"
      ]
     },
     "execution_count": 44,
     "metadata": {},
     "output_type": "execute_result"
    }
   ],
   "source": [
    "type(y_test)"
   ]
  },
  {
   "cell_type": "code",
   "execution_count": 14,
   "metadata": {},
   "outputs": [
    {
     "name": "stdout",
     "output_type": "stream",
     "text": [
      "[[0.04930729 0.24065626 0.04619648 0.00746622 0.65637374]]\n"
     ]
    }
   ],
   "source": [
    "path = os.path.abspath('more images')\n",
    "test = cv2.imread(os.path.join(path,'068250e.jpg'),0)\n",
    "test = np.array(test).reshape(-1,IMG_SIZE_x, IMG_SIZE_y,1)\n",
    "test = test/255.0\n",
    "prediction = model.predict(test)\n",
    "print(prediction)"
   ]
  },
  {
   "cell_type": "code",
   "execution_count": 15,
   "metadata": {},
   "outputs": [
    {
     "name": "stdout",
     "output_type": "stream",
     "text": [
      "e\n"
     ]
    }
   ],
   "source": [
    "print(labels[np.argmax(prediction)])"
   ]
  },
  {
   "cell_type": "code",
   "execution_count": null,
   "metadata": {},
   "outputs": [],
   "source": []
  }
 ],
 "metadata": {
  "kernelspec": {
   "display_name": "Python 3",
   "language": "python",
   "name": "python3"
  },
  "language_info": {
   "codemirror_mode": {
    "name": "ipython",
    "version": 3
   },
   "file_extension": ".py",
   "mimetype": "text/x-python",
   "name": "python",
   "nbconvert_exporter": "python",
   "pygments_lexer": "ipython3",
   "version": "3.7.3"
  }
 },
 "nbformat": 4,
 "nbformat_minor": 2
}
